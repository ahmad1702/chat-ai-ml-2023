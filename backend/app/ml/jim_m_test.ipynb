{
  "nbformat": 4,
  "nbformat_minor": 0,
  "metadata": {
    "colab": {
      "provenance": [],
      "authorship_tag": "ABX9TyOoGw4BZe90n/EX6n4N7FCI"
    },
    "kernelspec": {
      "name": "python3",
      "display_name": "Python 3"
    },
    "language_info": {
      "name": "python"
    }
  },
  "cells": [
    {
      "cell_type": "code",
      "execution_count": 1,
      "metadata": {
        "colab": {
          "base_uri": "https://localhost:8080/"
        },
        "id": "wj4IE3TjC-Iu",
        "outputId": "9f8b32cf-89e0-4016-d380-74eae6206e54"
      },
      "outputs": [
        {
          "output_type": "stream",
          "name": "stdout",
          "text": [
            "hello jim\n"
          ]
        }
      ],
      "source": [
        "def chat_input(input):\n",
        "    print(input)\n",
        "    return {\"message\": f\"Hi, I know you said '{input}' but I'm not implemented yet...\"}"
      ]
    }
  ]
}