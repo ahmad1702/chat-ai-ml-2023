{
 "cells": [
  {
   "cell_type": "code",
   "execution_count": null,
   "metadata": {},
   "outputs": [],
   "source": [
    "def chat_input(input):\n",
    "    print(input)\n",
    "    return {\"message\": f\"Hi, I believe you said '{input}'? Sorry, but I'm not implemented yet...\"}"
   ]
  }
 ],
 "metadata": {
  "kernelspec": {
   "display_name": "venv",
   "language": "python",
   "name": "python3"
  },
  "language_info": {
   "name": "python",
   "version": "3.9.12"
  },
  "orig_nbformat": 4,
  "vscode": {
   "interpreter": {
    "hash": "0691d3fa57650688c159bede09349e6dfa210506f21f164a99a570c8a590bdb4"
   }
  }
 },
 "nbformat": 4,
 "nbformat_minor": 2
}
